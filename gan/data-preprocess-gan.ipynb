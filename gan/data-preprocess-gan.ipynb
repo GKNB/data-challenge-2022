{
 "cells": [
  {
   "cell_type": "code",
   "execution_count": 1,
   "id": "26042f0d",
   "metadata": {},
   "outputs": [],
   "source": [
    "import numpy as np\n",
    "import pandas as pd\n",
    "import xarray as xr\n",
    "import h5py\n",
    "\n",
    "import matplotlib.pyplot as plt"
   ]
  },
  {
   "cell_type": "code",
   "execution_count": 2,
   "id": "05df66ef",
   "metadata": {},
   "outputs": [],
   "source": [
    "ds_era5 = xr.load_dataset('data/perdigao_era5_2020.nc')\n",
    "ds_era5['vel100'] = np.sqrt(ds_era5['u100'] ** 2 +  ds_era5['v100'] ** 2)\n",
    "ds_era5['vel100'].attrs = {'long_name': '100 meter horizontal wind speed', 'units': 'm/s'}"
   ]
  },
  {
   "cell_type": "code",
   "execution_count": 3,
   "id": "917050ca",
   "metadata": {},
   "outputs": [],
   "source": [
    "ds_low_res_pre = xr.load_dataset('data/perdigao_low_res_1H_2020.nc')\n",
    "ds_high_res_pre = xr.load_dataset('data/perdigao_high_res_1H_2020.nc')"
   ]
  },
  {
   "cell_type": "code",
   "execution_count": 4,
   "id": "a2d2d2a7",
   "metadata": {},
   "outputs": [
    {
     "name": "stdout",
     "output_type": "stream",
     "text": [
      "ds_era5  u100 False\n",
      "ds_era5  v100 False\n",
      "ds_era5  t2m False\n",
      "ds_era5  i10fg False\n",
      "ds_era5  vel100 False\n",
      "\n",
      "\n",
      "ds_low_res_pre  absolute_height False\n",
      "ds_low_res_pre  std True\n",
      "ds_low_res_pre  temp True\n",
      "ds_low_res_pre  u True\n",
      "ds_low_res_pre  v True\n",
      "ds_low_res_pre  vel True\n",
      "\n",
      "\n",
      "ds_high_res_pre  absolute_height True\n",
      "ds_high_res_pre  std True\n",
      "ds_high_res_pre  temp True\n",
      "ds_high_res_pre  u True\n",
      "ds_high_res_pre  v True\n",
      "ds_high_res_pre  vel True\n"
     ]
    }
   ],
   "source": [
    "#check if there is nan\n",
    "for var_name in ds_era5.data_vars:\n",
    "    print(\"ds_era5 \", var_name, np.isnan(ds_era5[var_name]).any().to_numpy())\n",
    "print('\\n')    \n",
    "\n",
    "#check if there is nan\n",
    "for var_name in ds_low_res_pre.data_vars:\n",
    "    print(\"ds_low_res_pre \", var_name, np.isnan(ds_low_res_pre[var_name]).any().to_numpy())\n",
    "print('\\n')        \n",
    "\n",
    "#check if there is nan\n",
    "for var_name in ds_high_res_pre.data_vars:\n",
    "    print(\"ds_high_res_pre \", var_name, np.isnan(ds_high_res_pre[var_name]).any().to_numpy())"
   ]
  },
  {
   "cell_type": "code",
   "execution_count": 5,
   "id": "880afa79",
   "metadata": {},
   "outputs": [
    {
     "name": "stdout",
     "output_type": "stream",
     "text": [
      "Doing  std  for ds_low_res_pre\n",
      "(1446912,) (157,)\n",
      "Doing  temp  for ds_low_res_pre\n",
      "(1446912,) (157,)\n",
      "Doing  u  for ds_low_res_pre\n",
      "(1446912,) (157,)\n",
      "Doing  v  for ds_low_res_pre\n",
      "(1446912,) (157,)\n",
      "Doing  vel  for ds_low_res_pre\n",
      "(1446912,) (157,)\n",
      "Doing  std  for ds_high_res_pre\n",
      "(9363456,) (254,)\n",
      "Doing  temp  for ds_high_res_pre\n",
      "(9363456,) (254,)\n",
      "Doing  u  for ds_high_res_pre\n",
      "(9363456,) (254,)\n",
      "Doing  v  for ds_high_res_pre\n",
      "(9363456,) (254,)\n",
      "Doing  vel  for ds_high_res_pre\n",
      "(9363456,) (254,)\n"
     ]
    }
   ],
   "source": [
    "# Check the pattern where nan shows up\n",
    "# The pattern should be that, for a given time, we see nan on all sites for all variables\n",
    "\n",
    "low_res_nan_t_idx_list = []\n",
    "for var_name in ds_low_res_pre.data_vars:\n",
    "    if var_name == \"absolute_height\":\n",
    "        continue\n",
    "    print(\"Doing \", var_name, \" for ds_low_res_pre\")\n",
    "    mask_low = np.isnan(ds_low_res_pre[var_name])\n",
    "    nan_idx_tuple = np.where(mask_low == True)\n",
    "    nan_t_idx = np.unique(nan_idx_tuple[0])\n",
    "    print(nan_idx_tuple[0].shape, nan_t_idx.shape)\n",
    "    low_res_nan_t_idx_list.append(nan_t_idx)\n",
    "for i in range(len(low_res_nan_t_idx_list) -1):\n",
    "    assert(np.array_equal(low_res_nan_t_idx_list[i], low_res_nan_t_idx_list[i+1]))\n",
    "    \n",
    "high_res_nan_t_idx_list = []\n",
    "for var_name in ds_high_res_pre.data_vars:\n",
    "    if var_name == \"absolute_height\":\n",
    "        continue\n",
    "    print(\"Doing \", var_name, \" for ds_high_res_pre\")\n",
    "    mask_high = np.isnan(ds_high_res_pre[var_name])\n",
    "    nan_idx_tuple = np.where(mask_high == True)\n",
    "    nan_t_idx = np.unique(nan_idx_tuple[0])\n",
    "    print(nan_idx_tuple[0].shape, nan_t_idx.shape)\n",
    "    high_res_nan_t_idx_list.append(nan_t_idx)\n",
    "for i in range(len(high_res_nan_t_idx_list) -1):\n",
    "    assert(np.array_equal(high_res_nan_t_idx_list[i], high_res_nan_t_idx_list[i+1]))    "
   ]
  },
  {
   "cell_type": "code",
   "execution_count": 6,
   "id": "6d43ca49",
   "metadata": {},
   "outputs": [
    {
     "name": "stdout",
     "output_type": "stream",
     "text": [
      "Low,  (157,) [4165 4166 4167 4168 4169 4170 4171 4172 4173 4174 4175 4189 4190 4191\n",
      " 4192 4193 4194 4195 4196 4197 4198 4199 4453 4454 4455 4456 4457 4458\n",
      " 4459 4460 4461 4462 4463 4476 4477 4478 4479 4480 4481 4482 4483 4484\n",
      " 4485 4486 4487 4500 4501 4502 4503 4504 4505 4506 4507 4508 4509 4510\n",
      " 4511 4718 4719 4720 4721 4722 4723 4724 4725 4726 4727 4741 4742 4743\n",
      " 4744 4745 4746 4747 4748 4749 4750 4751 4764 4765 4766 4767 4768 4769\n",
      " 4770 4771 4772 4773 4774 4775 4788 4789 4790 4791 4792 4793 4794 4795\n",
      " 4796 4797 4798 4799 4813 4814 4815 4816 4817 4818 4819 4820 4821 4822\n",
      " 4823 4837 4838 4839 4840 4841 4842 4843 4844 4845 4846 4847 4981 4982\n",
      " 4983 4984 4985 4986 4987 4988 4989 4990 4991 5053 5054 5055 5056 5057\n",
      " 5058 5059 5060 5061 5062 5063 5221 5222 5223 5224 5225 5226 5227 5228\n",
      " 5229 5230 5231]\n",
      "High,  (254,) [1608 1609 1610 1611 1612 1613 1614 1615 1616 1617 1618 1619 1620 1621\n",
      " 1622 1623 1624 1625 1626 1627 1628 1629 1630 1631 1944 1945 1946 1947\n",
      " 1948 1949 1950 1951 1952 1953 1954 1955 1956 1957 1958 1959 1960 1961\n",
      " 1962 1963 1964 1965 1966 1967 4165 4166 4167 4168 4169 4170 4171 4172\n",
      " 4173 4174 4175 4189 4190 4191 4192 4193 4194 4195 4196 4197 4198 4199\n",
      " 4453 4454 4455 4456 4457 4458 4459 4460 4461 4462 4463 4476 4477 4478\n",
      " 4479 4480 4481 4482 4483 4484 4485 4486 4487 4500 4501 4502 4503 4504\n",
      " 4505 4506 4507 4508 4509 4510 4511 4525 4526 4527 4528 4529 4530 4531\n",
      " 4532 4533 4534 4535 4669 4670 4671 4672 4673 4674 4675 4676 4677 4678\n",
      " 4679 4693 4694 4695 4696 4697 4698 4699 4700 4701 4702 4703 4740 4741\n",
      " 4742 4743 4744 4745 4746 4747 4748 4749 4750 4751 4764 4765 4766 4767\n",
      " 4768 4769 4770 4771 4772 4773 4774 4775 4788 4789 4790 4791 4792 4793\n",
      " 4794 4795 4796 4797 4798 4799 4813 4814 4815 4816 4817 4818 4819 4820\n",
      " 4821 4822 4823 4837 4838 4839 4840 4841 4842 4843 4844 4845 4846 4847\n",
      " 4980 4981 4982 4983 4984 4985 4986 4987 4988 4989 4990 4991 5053 5054\n",
      " 5055 5056 5057 5058 5059 5060 5061 5062 5063 5221 5222 5223 5224 5225\n",
      " 5226 5227 5228 5229 5230 5231 8568 8569 8570 8571 8572 8573 8574 8575\n",
      " 8576 8577 8578 8579 8580 8581 8582 8583 8584 8585 8586 8587 8588 8589\n",
      " 8590 8591]\n",
      "Union,  (264,) [1608 1609 1610 1611 1612 1613 1614 1615 1616 1617 1618 1619 1620 1621\n",
      " 1622 1623 1624 1625 1626 1627 1628 1629 1630 1631 1944 1945 1946 1947\n",
      " 1948 1949 1950 1951 1952 1953 1954 1955 1956 1957 1958 1959 1960 1961\n",
      " 1962 1963 1964 1965 1966 1967 4165 4166 4167 4168 4169 4170 4171 4172\n",
      " 4173 4174 4175 4189 4190 4191 4192 4193 4194 4195 4196 4197 4198 4199\n",
      " 4453 4454 4455 4456 4457 4458 4459 4460 4461 4462 4463 4476 4477 4478\n",
      " 4479 4480 4481 4482 4483 4484 4485 4486 4487 4500 4501 4502 4503 4504\n",
      " 4505 4506 4507 4508 4509 4510 4511 4525 4526 4527 4528 4529 4530 4531\n",
      " 4532 4533 4534 4535 4669 4670 4671 4672 4673 4674 4675 4676 4677 4678\n",
      " 4679 4693 4694 4695 4696 4697 4698 4699 4700 4701 4702 4703 4718 4719\n",
      " 4720 4721 4722 4723 4724 4725 4726 4727 4740 4741 4742 4743 4744 4745\n",
      " 4746 4747 4748 4749 4750 4751 4764 4765 4766 4767 4768 4769 4770 4771\n",
      " 4772 4773 4774 4775 4788 4789 4790 4791 4792 4793 4794 4795 4796 4797\n",
      " 4798 4799 4813 4814 4815 4816 4817 4818 4819 4820 4821 4822 4823 4837\n",
      " 4838 4839 4840 4841 4842 4843 4844 4845 4846 4847 4980 4981 4982 4983\n",
      " 4984 4985 4986 4987 4988 4989 4990 4991 5053 5054 5055 5056 5057 5058\n",
      " 5059 5060 5061 5062 5063 5221 5222 5223 5224 5225 5226 5227 5228 5229\n",
      " 5230 5231 8568 8569 8570 8571 8572 8573 8574 8575 8576 8577 8578 8579\n",
      " 8580 8581 8582 8583 8584 8585 8586 8587 8588 8589 8590 8591]\n"
     ]
    }
   ],
   "source": [
    "# Data preprocessing\n",
    "# In this step we try to remove those timeslices where we only have nan. This is critical in DL\n",
    "\n",
    "# First find the union of nan_t_idx of low/high res input ds\n",
    "print(\"Low, \", low_res_nan_t_idx_list[0].shape, low_res_nan_t_idx_list[0])\n",
    "print(\"High, \", high_res_nan_t_idx_list[0].shape, high_res_nan_t_idx_list[0])\n",
    "nan_t_idx_union = np.union1d(low_res_nan_t_idx_list[0], high_res_nan_t_idx_list[0])\n",
    "print(\"Union, \", nan_t_idx_union.shape, nan_t_idx_union)"
   ]
  },
  {
   "cell_type": "code",
   "execution_count": 7,
   "id": "a4aa5d29",
   "metadata": {},
   "outputs": [
    {
     "name": "stdout",
     "output_type": "stream",
     "text": [
      "<xarray.Dataset>\n",
      "Dimensions:          (time: 8784, yf: 96, xf: 96)\n",
      "Coordinates:\n",
      "  * time             (time) datetime64[ns] 2020-01-01 ... 2020-12-31T23:00:00\n",
      "    height           float32 100.0\n",
      "  * xf               (xf) float64 7.76e+03 7.92e+03 ... 2.28e+04 2.296e+04\n",
      "  * yf               (yf) float64 7.76e+03 7.92e+03 ... 2.28e+04 2.296e+04\n",
      "Data variables:\n",
      "    absolute_height  (time, yf, xf) float32 258.1 258.5 254.7 ... 324.4 310.8\n",
      "    std              (time, yf, xf) float32 0.09803 0.1249 ... 1.039 0.9158\n",
      "    temp             (time, yf, xf) float32 284.3 284.4 284.3 ... 278.9 278.7\n",
      "    u                (time, yf, xf) float32 -2.41 -2.445 -2.446 ... 7.012 6.127\n",
      "    v                (time, yf, xf) float32 0.3384 0.3794 ... -4.142 -3.613\n",
      "    vel              (time, yf, xf) float32 2.436 2.476 2.477 ... 8.179 7.152\n",
      "Attributes:\n",
      "    site:         Perdigao, Portugal\n",
      "    description:  160m x 160m x 40m LES simulation\n",
      "    copyright:    GE Renewable Energy\n",
      "<xarray.Dataset>\n",
      "Dimensions:          (time: 8520, yf: 96, xf: 96)\n",
      "Coordinates:\n",
      "  * time             (time) datetime64[ns] 2020-01-01 ... 2020-12-31T23:00:00\n",
      "    height           float32 100.0\n",
      "  * xf               (xf) float64 7.76e+03 7.92e+03 ... 2.28e+04 2.296e+04\n",
      "  * yf               (yf) float64 7.76e+03 7.92e+03 ... 2.28e+04 2.296e+04\n",
      "Data variables:\n",
      "    absolute_height  (time, yf, xf) float32 258.1 258.5 254.7 ... 324.4 310.8\n",
      "    std              (time, yf, xf) float32 0.09803 0.1249 ... 1.039 0.9158\n",
      "    temp             (time, yf, xf) float32 284.3 284.4 284.3 ... 278.9 278.7\n",
      "    u                (time, yf, xf) float32 -2.41 -2.445 -2.446 ... 7.012 6.127\n",
      "    v                (time, yf, xf) float32 0.3384 0.3794 ... -4.142 -3.613\n",
      "    vel              (time, yf, xf) float32 2.436 2.476 2.477 ... 8.179 7.152\n",
      "Attributes:\n",
      "    site:         Perdigao, Portugal\n",
      "    description:  160m x 160m x 40m LES simulation\n",
      "    copyright:    GE Renewable Energy\n",
      "\n",
      "\n",
      "\n",
      "\n",
      "<xarray.Dataset>\n",
      "Dimensions:          (time: 8784, yf: 192, xf: 192)\n",
      "Coordinates:\n",
      "  * time             (time) datetime64[ns] 2020-01-01 ... 2020-12-31T23:00:00\n",
      "    height           float32 100.0\n",
      "  * xf               (xf) float64 7.72e+03 7.8e+03 ... 2.292e+04 2.3e+04\n",
      "  * yf               (yf) float64 7.72e+03 7.8e+03 ... 2.292e+04 2.3e+04\n",
      "Data variables:\n",
      "    absolute_height  (time, yf, xf) float32 255.8 258.2 256.9 ... 318.7 300.5\n",
      "    std              (time, yf, xf) float32 0.07866 0.08326 ... 0.9995 1.074\n",
      "    temp             (time, yf, xf) float32 284.3 284.3 284.3 ... 278.7 278.8\n",
      "    u                (time, yf, xf) float32 -2.474 -2.472 -2.497 ... 6.397 6.251\n",
      "    v                (time, yf, xf) float32 0.4507 0.4227 ... -3.267 -3.64\n",
      "    vel              (time, yf, xf) float32 2.516 2.509 2.529 ... 7.224 7.292\n",
      "Attributes:\n",
      "    site:         Perdigao, Portugal\n",
      "    description:  80m x 80m x 20m LES simulation\n",
      "    copyright:    GE Renewable Energy\n",
      "<xarray.Dataset>\n",
      "Dimensions:          (time: 8520, yf: 192, xf: 192)\n",
      "Coordinates:\n",
      "  * time             (time) datetime64[ns] 2020-01-01 ... 2020-12-31T23:00:00\n",
      "    height           float32 100.0\n",
      "  * xf               (xf) float64 7.72e+03 7.8e+03 ... 2.292e+04 2.3e+04\n",
      "  * yf               (yf) float64 7.72e+03 7.8e+03 ... 2.292e+04 2.3e+04\n",
      "Data variables:\n",
      "    absolute_height  (time, yf, xf) float32 255.8 258.2 256.9 ... 318.7 300.5\n",
      "    std              (time, yf, xf) float32 0.07866 0.08326 ... 0.9995 1.074\n",
      "    temp             (time, yf, xf) float32 284.3 284.3 284.3 ... 278.7 278.8\n",
      "    u                (time, yf, xf) float32 -2.474 -2.472 -2.497 ... 6.397 6.251\n",
      "    v                (time, yf, xf) float32 0.4507 0.4227 ... -3.267 -3.64\n",
      "    vel              (time, yf, xf) float32 2.516 2.509 2.529 ... 7.224 7.292\n",
      "Attributes:\n",
      "    site:         Perdigao, Portugal\n",
      "    description:  80m x 80m x 20m LES simulation\n",
      "    copyright:    GE Renewable Energy\n"
     ]
    }
   ],
   "source": [
    "# Then drop those data in both ds\n",
    "\n",
    "print(ds_low_res_pre)\n",
    "ds_low_res = ds_low_res_pre.drop_isel(time=nan_t_idx_union)\n",
    "print(ds_low_res)\n",
    "print('\\n\\n\\n')\n",
    "print(ds_high_res_pre)\n",
    "ds_high_res = ds_high_res_pre.drop_isel(time=nan_t_idx_union)\n",
    "print(ds_high_res)"
   ]
  },
  {
   "cell_type": "code",
   "execution_count": 8,
   "id": "263613fc",
   "metadata": {},
   "outputs": [
    {
     "name": "stdout",
     "output_type": "stream",
     "text": [
      "ds_low_res  absolute_height False\n",
      "ds_low_res  std False\n",
      "ds_low_res  temp False\n",
      "ds_low_res  u False\n",
      "ds_low_res  v False\n",
      "ds_low_res  vel False\n",
      "ds_high_res  absolute_height False\n",
      "ds_high_res  std False\n",
      "ds_high_res  temp False\n",
      "ds_high_res  u False\n",
      "ds_high_res  v False\n",
      "ds_high_res  vel False\n"
     ]
    }
   ],
   "source": [
    "# Next make sure there is no nan anymore\n",
    "\n",
    "for var_name in ds_low_res.data_vars:\n",
    "    print(\"ds_low_res \", var_name, np.isnan(ds_low_res[var_name]).any().to_numpy())\n",
    "for var_name in ds_high_res.data_vars:\n",
    "    print(\"ds_high_res \", var_name, np.isnan(ds_high_res[var_name]).any().to_numpy())"
   ]
  },
  {
   "cell_type": "code",
   "execution_count": 9,
   "id": "f592d2f3",
   "metadata": {},
   "outputs": [],
   "source": [
    "# Finally save to disk\n",
    "\n",
    "ds_low_res.to_netcdf('processed_data/perdigao_low_res_1H_2020.nc')\n",
    "ds_high_res.to_netcdf('processed_data/perdigao_high_res_1H_2020.nc')"
   ]
  },
  {
   "cell_type": "code",
   "execution_count": 10,
   "id": "cd28ec18",
   "metadata": {},
   "outputs": [
    {
     "name": "stdout",
     "output_type": "stream",
     "text": [
      "True\n",
      "True\n"
     ]
    }
   ],
   "source": [
    "# Make sure we can open it again and it is the same\n",
    "\n",
    "ds_low_res_reopen = xr.load_dataset('processed_data/perdigao_low_res_1H_2020.nc')\n",
    "ds_high_res_reopen = xr.load_dataset('processed_data/perdigao_high_res_1H_2020.nc')\n",
    "print(ds_low_res.equals(ds_low_res_reopen))\n",
    "print(ds_high_res.equals(ds_high_res_reopen))"
   ]
  },
  {
   "cell_type": "markdown",
   "id": "bcbf8733",
   "metadata": {},
   "source": [
    "# Compute the statistics of low and high resolution data for GAN"
   ]
  },
  {
   "cell_type": "code",
   "execution_count": 11,
   "id": "ca85d9d8",
   "metadata": {},
   "outputs": [],
   "source": [
    "mean_lr_u = ds_low_res[\"u\"].mean().to_numpy()\n",
    "mean_lr_v = ds_low_res[\"v\"].mean().to_numpy()\n",
    "mean_hr_u = ds_high_res[\"u\"].mean().to_numpy()\n",
    "mean_hr_v = ds_high_res[\"v\"].mean().to_numpy()"
   ]
  },
  {
   "cell_type": "code",
   "execution_count": 12,
   "id": "0b45e72f",
   "metadata": {},
   "outputs": [
    {
     "name": "stdout",
     "output_type": "stream",
     "text": [
      "0.7051484\n",
      "-1.0147774\n",
      "0.701198\n",
      "-1.0068085\n"
     ]
    }
   ],
   "source": [
    "print(mean_lr_u)\n",
    "print(mean_lr_v)\n",
    "print(mean_hr_u)\n",
    "print(mean_hr_v)"
   ]
  },
  {
   "cell_type": "code",
   "execution_count": 13,
   "id": "604323a9",
   "metadata": {},
   "outputs": [],
   "source": [
    "stddev_lr_u = ds_low_res[\"u\"].std().to_numpy()\n",
    "stddev_lr_v = ds_low_res[\"v\"].std().to_numpy()\n",
    "stddev_hr_u = ds_high_res[\"u\"].std().to_numpy()\n",
    "stddev_hr_v = ds_high_res[\"v\"].std().to_numpy()"
   ]
  },
  {
   "cell_type": "code",
   "execution_count": 14,
   "id": "aa9f75f7",
   "metadata": {},
   "outputs": [
    {
     "name": "stdout",
     "output_type": "stream",
     "text": [
      "3.1869051\n",
      "2.8827915\n",
      "3.149407\n",
      "2.8781955\n"
     ]
    }
   ],
   "source": [
    "print(stddev_lr_u)\n",
    "print(stddev_lr_v)\n",
    "print(stddev_hr_u)\n",
    "print(stddev_hr_v)"
   ]
  },
  {
   "cell_type": "markdown",
   "id": "be8780bf",
   "metadata": {},
   "source": [
    "# Standardrize the dataset for GAN"
   ]
  },
  {
   "cell_type": "code",
   "execution_count": 15,
   "id": "495d8100",
   "metadata": {},
   "outputs": [
    {
     "name": "stdout",
     "output_type": "stream",
     "text": [
      "-1.8022865e-07\n",
      "-9.072685e-07\n",
      "0.9999977\n",
      "1.0000002\n"
     ]
    }
   ],
   "source": [
    "#First standardrize the hr dataset and test if the result is already standardrized\n",
    "\n",
    "da_high_res_std_u = ( ds_high_res[\"u\"] - mean_hr_u ) / stddev_hr_u\n",
    "da_high_res_std_v = ( ds_high_res[\"v\"] - mean_hr_v ) / stddev_hr_v\n",
    "print(da_high_res_std_u.mean().to_numpy())\n",
    "print(da_high_res_std_v.mean().to_numpy())\n",
    "print(da_high_res_std_u.std().to_numpy())\n",
    "print(da_high_res_std_v.std().to_numpy())"
   ]
  },
  {
   "cell_type": "code",
   "execution_count": 16,
   "id": "5cd63748",
   "metadata": {},
   "outputs": [
    {
     "name": "stdout",
     "output_type": "stream",
     "text": [
      "(2, 8520, 192, 192)\n",
      "(8520, 192, 192, 2)\n",
      "[0.9999977 1.0000002]\n",
      "[-1.8022865e-07 -9.0726849e-07]\n"
     ]
    }
   ],
   "source": [
    "#Next combine u and v component into a single array with two channels as the last dimension\n",
    "#so weird... If I stack them with axis=-1, then result of std and mean will be incorrect!\n",
    "\n",
    "np_hr_std_pre = np.stack((da_high_res_std_u.to_numpy(), da_high_res_std_v.to_numpy()), axis=0)\n",
    "print(np_hr_std_pre.shape)\n",
    "\n",
    "np_hr_std = np_hr_std_pre.transpose(1,2,3,0)\n",
    "print(np_hr_std.shape)\n",
    "\n",
    "print(np_hr_std.std(axis=(0,1,2)))\n",
    "print(np_hr_std.mean(axis=(0,1,2)))"
   ]
  },
  {
   "cell_type": "code",
   "execution_count": 17,
   "id": "ec471d9d",
   "metadata": {},
   "outputs": [
    {
     "name": "stdout",
     "output_type": "stream",
     "text": [
      "2.1677808e-08\n",
      "-7.1720837e-07\n",
      "1.0000008\n",
      "1.0000011\n",
      "(2, 8520, 96, 96)\n",
      "(8520, 96, 96, 2)\n",
      "[1.0000008 1.0000011]\n",
      "[ 2.1677808e-08 -7.1720837e-07]\n"
     ]
    }
   ],
   "source": [
    "#Do things for lr dataset\n",
    "\n",
    "da_low_res_std_u = ( ds_low_res[\"u\"] - mean_lr_u ) / stddev_lr_u\n",
    "da_low_res_std_v = ( ds_low_res[\"v\"] - mean_lr_v ) / stddev_lr_v\n",
    "print(da_low_res_std_u.mean().to_numpy())\n",
    "print(da_low_res_std_v.mean().to_numpy())\n",
    "print(da_low_res_std_u.std().to_numpy())\n",
    "print(da_low_res_std_v.std().to_numpy())\n",
    "\n",
    "#so weird... If I stack them with axis=-1, then result of std and mean will be incorrect!\n",
    "np_lr_std_pre = np.stack((da_low_res_std_u.to_numpy(), da_low_res_std_v.to_numpy()), axis=0)\n",
    "print(np_lr_std_pre.shape)\n",
    "\n",
    "np_lr_std = np_lr_std_pre.transpose(1,2,3,0)\n",
    "print(np_lr_std.shape)\n",
    "\n",
    "print(np_lr_std.std(axis=(0,1,2)))\n",
    "print(np_lr_std.mean(axis=(0,1,2)))"
   ]
  },
  {
   "cell_type": "code",
   "execution_count": 18,
   "id": "32a8edc3",
   "metadata": {},
   "outputs": [],
   "source": [
    "#Save mean/stddev of lr/hr data set as four 2-channel array\n",
    "\n",
    "lr_mean = np.array([mean_lr_u, mean_lr_v])\n",
    "hr_mean = np.array([mean_hr_u, mean_hr_v])\n",
    "lr_stddev = np.array([stddev_lr_u, stddev_lr_v])\n",
    "hr_stddev = np.array([stddev_hr_u, stddev_hr_v])"
   ]
  },
  {
   "cell_type": "code",
   "execution_count": 19,
   "id": "f235d79b",
   "metadata": {},
   "outputs": [],
   "source": [
    "#Save everything into a hdf5 fileCopy1\n",
    "\n",
    "with h5py.File('processed_data/np_gan_standard.h5', 'w') as hf:\n",
    "    hf.create_dataset(\"np_lr\",  data=np_lr_std)\n",
    "    hf.create_dataset(\"np_hr\",  data=np_hr_std)\n",
    "    hf.create_dataset(\"np_lr_mean\",  data=lr_mean)\n",
    "    hf.create_dataset(\"np_hr_mean\",  data=hr_mean)\n",
    "    hf.create_dataset(\"np_lr_stddev\",  data=lr_stddev)\n",
    "    hf.create_dataset(\"np_hr_stddev\",  data=hr_stddev)"
   ]
  },
  {
   "cell_type": "code",
   "execution_count": 20,
   "id": "63d8298f",
   "metadata": {},
   "outputs": [
    {
     "name": "stdout",
     "output_type": "stream",
     "text": [
      "True\n",
      "True\n"
     ]
    }
   ],
   "source": [
    "#Test if we can reopen successfully and if the result is correct\n",
    "\n",
    "with h5py.File('processed_data/np_gan_standard.h5', 'r') as hf:\n",
    "    data_lr = hf['np_lr'][:]\n",
    "    data_lr_mean = hf['np_lr_mean'][:]\n",
    "    data_lr_stddev = hf['np_lr_stddev'][:]\n",
    "    data_hr = hf['np_hr'][:]\n",
    "    data_hr_mean = hf['np_hr_mean'][:]\n",
    "    data_hr_stddev = hf['np_hr_stddev'][:]\n",
    "    \n",
    "print(np.array_equal(np_lr_std, data_lr))    \n",
    "print(np.array_equal(np_hr_std, data_hr))"
   ]
  },
  {
   "cell_type": "code",
   "execution_count": 21,
   "id": "c7114fd6",
   "metadata": {},
   "outputs": [
    {
     "name": "stdout",
     "output_type": "stream",
     "text": [
      "9.536743e-07\n",
      "9.536743e-07\n",
      "1.9073486e-06\n",
      "9.536743e-07\n"
     ]
    }
   ],
   "source": [
    "#Test if we can regenerate the old data. Use max to get rid of the floating point error\n",
    "\n",
    "np_lr_reopen = data_lr * data_lr_stddev + data_lr_mean\n",
    "print(np.max(np_lr_reopen[:,:,:,0] - ds_low_res[\"u\"].to_numpy()))\n",
    "print(np.max(np_lr_reopen[:,:,:,1] - ds_low_res[\"v\"].to_numpy()))\n",
    "\n",
    "np_hr_reopen = data_hr * data_hr_stddev + data_hr_mean\n",
    "print(np.max(np_hr_reopen[:,:,:,0] - ds_high_res[\"u\"].to_numpy()))\n",
    "print(np.max(np_hr_reopen[:,:,:,1] - ds_high_res[\"v\"].to_numpy()))"
   ]
  },
  {
   "cell_type": "code",
   "execution_count": 22,
   "id": "3f857446",
   "metadata": {},
   "outputs": [
    {
     "name": "stdout",
     "output_type": "stream",
     "text": [
      "(8520, 96, 96, 2)\n",
      "[ 0.7051484 -1.0147774]\n",
      "[3.1869051 2.8827915]\n",
      "\n",
      "\n",
      "\n",
      "(8520, 192, 192, 2)\n",
      "[ 0.701198  -1.0068085]\n",
      "[3.149407  2.8781955]\n"
     ]
    }
   ],
   "source": [
    "print(data_lr.shape)\n",
    "print(data_lr_mean)\n",
    "print(data_lr_stddev)\n",
    "print('\\n\\n')\n",
    "print(data_hr.shape)\n",
    "print(data_hr_mean)\n",
    "print(data_hr_stddev)"
   ]
  },
  {
   "cell_type": "code",
   "execution_count": null,
   "id": "2196a210",
   "metadata": {},
   "outputs": [],
   "source": []
  }
 ],
 "metadata": {
  "kernelspec": {
   "display_name": "Python 3 (ipykernel)",
   "language": "python",
   "name": "python3"
  },
  "language_info": {
   "codemirror_mode": {
    "name": "ipython",
    "version": 3
   },
   "file_extension": ".py",
   "mimetype": "text/x-python",
   "name": "python",
   "nbconvert_exporter": "python",
   "pygments_lexer": "ipython3",
   "version": "3.8.10"
  }
 },
 "nbformat": 4,
 "nbformat_minor": 5
}
