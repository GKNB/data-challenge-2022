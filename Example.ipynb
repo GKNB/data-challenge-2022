{
 "cells": [
  {
   "cell_type": "markdown",
   "id": "60fb7440-14b9-4c2b-adbb-94d44e433e3f",
   "metadata": {},
   "source": [
    "# Introduction\n",
    "\n",
    "This script is an example to run the code for the data challenge with explanations. Details of each step can be found in each section. Functions used are from the ``` ./lib ``` folder. \n",
    "\n",
    "The structure of the code is:\n",
    "1. Data preprocessing:\n",
    "    - Removing NANs in the data\n",
    "    - Standardrization\n",
    "2. Training: \n",
    "    - Dimension reduction with autoencoder\n",
    "    - GAN/CNN for super-resolution (SR)\n",
    "    \n",
    "## Code structure:\n",
    "- Data preprocessing:\n",
    "    * ``` preprocess.py ``` provides the functions needed for data preprocessing\n",
    "- GAN for super-resolution\n",
    "    * ``` models.py ``` provides the models needed in GAN\n",
    "    * ``` GAN_class.py ``` contains the class defined for full GAN training"
   ]
  },
  {
   "cell_type": "markdown",
   "id": "11e8dbda-c13e-4617-8d20-e4dc3b187e34",
   "metadata": {},
   "source": [
    "# Code for running"
   ]
  },
  {
   "cell_type": "markdown",
   "id": "1edadce7-68a0-4e10-9e44-e9cfb9c2a81e",
   "metadata": {},
   "source": [
    "## Import libraries"
   ]
  },
  {
   "cell_type": "code",
   "execution_count": null,
   "id": "435f2002",
   "metadata": {},
   "outputs": [],
   "source": [
    "%reset -f\n",
    "%load_ext autoreload\n",
    "%autoreload 2\n",
    "\n",
    "import numpy as np\n",
    "import pandas as pd\n",
    "import xarray as xr\n",
    "import h5py\n",
    "\n",
    "import matplotlib.pyplot as plt\n",
    "import sys\n",
    "sys.path.append(\"./lib\")\n",
    "from preprocess import *\n",
    "from models import *\n",
    "from GAN_class import *\n",
    "from AE_class import *"
   ]
  },
  {
   "cell_type": "markdown",
   "id": "f9bf4540-2b00-409b-90e8-c12353cb8735",
   "metadata": {},
   "source": [
    "## Data preprocessing"
   ]
  },
  {
   "cell_type": "markdown",
   "id": "5e4f14ee-af01-474f-b135-6548ecf5a60d",
   "metadata": {},
   "source": [
    "The function ``` data_preprocess ``` will take the list of data sets and parameters required in the preprocessing.\n",
    "\n",
    "The parameters are explained below:\n",
    "\n",
    "1. For NAN removal:\n",
    "    - ``` \"nan_dim_along\" ```: the dimension along which we remove NAN data\n",
    "    - ``` \"nan_data_irrelevant\" ```: the irrelevant data to detect NAN\n",
    "    - ``` \"output_folder\" ```: folder for data output\n",
    "    - ``` \"file_format\" ```: the file name format used for saving NAN-removed data\n",
    "2. For Standardrization:\n",
    "    - ``` \"stat_dim\" ```: the statistical dimension of the data, used for mean, stddev, etc.\n",
    "    - ``` \"std_file_format\" ```: the file name format used for standardrized data file h5\n",
    "    - ``` \"std_data_format\" ```: the data name format used for h5 standardrized data \n",
    "    - ``` \"std_data_list\" ```: list of data to be standardrized\n",
    "    - ``` \"std_dataset_list\" ```: list of data sets to be standardrized\n",
    "    - ``` \"num_error_tolerance\" ```: numerical tolerance for passing the standardrization test"
   ]
  },
  {
   "cell_type": "code",
   "execution_count": 2,
   "id": "4ecd2eda-f516-41e4-abb0-787909629a97",
   "metadata": {},
   "outputs": [],
   "source": [
    "#set up parameters\n",
    "output_folder = \"../data/preprocessed/\"\n",
    "file_format= \"%s\"\n",
    "std_file_format = \"np_gan_standard\"\n",
    "std_data_format = \"np_%s\"\n",
    "parameters = {\"nan_dim_along\":\"time\", \"nan_data_irrelevant\":\"absolute_height\", \\\n",
    "              \"output_folder\":output_folder,\"file_format\":file_format, \\\n",
    "              \"stat_dim\" : \"time\",\\\n",
    "              \"std_file_format\":std_file_format, \"std_data_format\":std_data_format,\\\n",
    "              \"std_data_list\":[\"u\",\"v\"], \\\n",
    "              \"std_dataset_list\":[\"perdigao_low_res_1H_2020\",\"perdigao_high_res_1H_2020\"],\\\n",
    "              \"num_error_tolerance\":1e-5}\n",
    "list_of_data_set_path=['../data/perdigao_era5_2020.nc', '../data/perdigao_low_res_1H_2020.nc', '../data/perdigao_high_res_1H_2020.nc' ]"
   ]
  },
  {
   "cell_type": "code",
   "execution_count": 3,
   "id": "d9a13f1e-4ce9-4809-b0ad-a2cab043b38f",
   "metadata": {
    "jupyter": {
     "outputs_hidden": true
    },
    "tags": []
   },
   "outputs": [
    {
     "name": "stdout",
     "output_type": "stream",
     "text": [
      "Creating DataSets by loading files:['../data/perdigao_era5_2020.nc', '../data/perdigao_low_res_1H_2020.nc', '../data/perdigao_high_res_1H_2020.nc']\n",
      "Removing NAN indices along dimension:time\n",
      "WARNING! This will change the oringal DataSets!\n",
      "Searching NAN in DataSets: dict_keys(['perdigao_era5_2020', 'perdigao_low_res_1H_2020', 'perdigao_high_res_1H_2020'])...\n",
      "Checking nan pattern of variable: u100  for DataSet: perdigao_era5_2020\n",
      "Total number of NAN: (0,), along (0,) time indicies\n",
      "Checking nan pattern of variable: v100  for DataSet: perdigao_era5_2020\n",
      "Total number of NAN: (0,), along (0,) time indicies\n",
      "Checking nan pattern of variable: t2m  for DataSet: perdigao_era5_2020\n",
      "Total number of NAN: (0,), along (0,) time indicies\n",
      "Checking nan pattern of variable: i10fg  for DataSet: perdigao_era5_2020\n",
      "Total number of NAN: (0,), along (0,) time indicies\n",
      "NAN pattern along dimension: time, is CONSISTENT for all other coords, with absolute_height excluded\n",
      "Checking nan pattern of variable: std  for DataSet: perdigao_low_res_1H_2020\n",
      "Total number of NAN: (1446912,), along (157,) time indicies\n",
      "Checking nan pattern of variable: temp  for DataSet: perdigao_low_res_1H_2020\n",
      "Total number of NAN: (1446912,), along (157,) time indicies\n",
      "Checking nan pattern of variable: v  for DataSet: perdigao_low_res_1H_2020\n",
      "Total number of NAN: (1446912,), along (157,) time indicies\n",
      "Checking nan pattern of variable: vel  for DataSet: perdigao_low_res_1H_2020\n",
      "Total number of NAN: (1446912,), along (157,) time indicies\n",
      "NAN pattern along dimension: time, is CONSISTENT for all other coords, with absolute_height excluded\n",
      "Checking nan pattern of variable: std  for DataSet: perdigao_high_res_1H_2020\n",
      "Total number of NAN: (9363456,), along (254,) time indicies\n",
      "Checking nan pattern of variable: temp  for DataSet: perdigao_high_res_1H_2020\n",
      "Total number of NAN: (9363456,), along (254,) time indicies\n",
      "Checking nan pattern of variable: v  for DataSet: perdigao_high_res_1H_2020\n",
      "Total number of NAN: (9363456,), along (254,) time indicies\n",
      "Checking nan pattern of variable: vel  for DataSet: perdigao_high_res_1H_2020\n",
      "Total number of NAN: (9363456,), along (254,) time indicies\n",
      "NAN pattern along dimension: time, is CONSISTENT for all other coords, with absolute_height excluded\n",
      "nan indices to be removed are: [1608 1609 1610 1611 1612 1613 1614 1615 1616 1617 1618 1619 1620 1621\n",
      " 1622 1623 1624 1625 1626 1627 1628 1629 1630 1631 1944 1945 1946 1947\n",
      " 1948 1949 1950 1951 1952 1953 1954 1955 1956 1957 1958 1959 1960 1961\n",
      " 1962 1963 1964 1965 1966 1967 4165 4166 4167 4168 4169 4170 4171 4172\n",
      " 4173 4174 4175 4189 4190 4191 4192 4193 4194 4195 4196 4197 4198 4199\n",
      " 4453 4454 4455 4456 4457 4458 4459 4460 4461 4462 4463 4476 4477 4478\n",
      " 4479 4480 4481 4482 4483 4484 4485 4486 4487 4500 4501 4502 4503 4504\n",
      " 4505 4506 4507 4508 4509 4510 4511 4525 4526 4527 4528 4529 4530 4531\n",
      " 4532 4533 4534 4535 4669 4670 4671 4672 4673 4674 4675 4676 4677 4678\n",
      " 4679 4693 4694 4695 4696 4697 4698 4699 4700 4701 4702 4703 4718 4719\n",
      " 4720 4721 4722 4723 4724 4725 4726 4727 4740 4741 4742 4743 4744 4745\n",
      " 4746 4747 4748 4749 4750 4751 4764 4765 4766 4767 4768 4769 4770 4771\n",
      " 4772 4773 4774 4775 4788 4789 4790 4791 4792 4793 4794 4795 4796 4797\n",
      " 4798 4799 4813 4814 4815 4816 4817 4818 4819 4820 4821 4822 4823 4837\n",
      " 4838 4839 4840 4841 4842 4843 4844 4845 4846 4847 4980 4981 4982 4983\n",
      " 4984 4985 4986 4987 4988 4989 4990 4991 5053 5054 5055 5056 5057 5058\n",
      " 5059 5060 5061 5062 5063 5221 5222 5223 5224 5225 5226 5227 5228 5229\n",
      " 5230 5231 8568 8569 8570 8571 8572 8573 8574 8575 8576 8577 8578 8579\n",
      " 8580 8581 8582 8583 8584 8585 8586 8587 8588 8589 8590 8591]\n",
      "Checking if there's NAN in datasets:dict_keys(['perdigao_era5_2020', 'perdigao_low_res_1H_2020', 'perdigao_high_res_1H_2020'])\n",
      "Searching NAN in DataSets: dict_keys(['perdigao_era5_2020', 'perdigao_low_res_1H_2020', 'perdigao_high_res_1H_2020'])...\n",
      "Checking nan pattern of variable: u100  for DataSet: perdigao_era5_2020\n",
      "Total number of NAN: (0,), along (0,) time indicies\n",
      "Checking nan pattern of variable: v100  for DataSet: perdigao_era5_2020\n",
      "Total number of NAN: (0,), along (0,) time indicies\n",
      "Checking nan pattern of variable: t2m  for DataSet: perdigao_era5_2020\n",
      "Total number of NAN: (0,), along (0,) time indicies\n",
      "Checking nan pattern of variable: i10fg  for DataSet: perdigao_era5_2020\n",
      "Total number of NAN: (0,), along (0,) time indicies\n",
      "NAN pattern along dimension: time, is CONSISTENT for all other coords, with absolute_height excluded\n",
      "Checking nan pattern of variable: std  for DataSet: perdigao_low_res_1H_2020\n",
      "Total number of NAN: (0,), along (0,) time indicies\n",
      "Checking nan pattern of variable: temp  for DataSet: perdigao_low_res_1H_2020\n",
      "Total number of NAN: (0,), along (0,) time indicies\n",
      "Checking nan pattern of variable: v  for DataSet: perdigao_low_res_1H_2020\n",
      "Total number of NAN: (0,), along (0,) time indicies\n",
      "Checking nan pattern of variable: vel  for DataSet: perdigao_low_res_1H_2020\n",
      "Total number of NAN: (0,), along (0,) time indicies\n",
      "NAN pattern along dimension: time, is CONSISTENT for all other coords, with absolute_height excluded\n",
      "Checking nan pattern of variable: std  for DataSet: perdigao_high_res_1H_2020\n",
      "Total number of NAN: (0,), along (0,) time indicies\n",
      "Checking nan pattern of variable: temp  for DataSet: perdigao_high_res_1H_2020\n",
      "Total number of NAN: (0,), along (0,) time indicies\n",
      "Checking nan pattern of variable: v  for DataSet: perdigao_high_res_1H_2020\n",
      "Total number of NAN: (0,), along (0,) time indicies\n",
      "Checking nan pattern of variable: vel  for DataSet: perdigao_high_res_1H_2020\n",
      "Total number of NAN: (0,), along (0,) time indicies\n",
      "NAN pattern along dimension: time, is CONSISTENT for all other coords, with absolute_height excluded\n",
      "NAN all get removed! Saving preprocessed data!\n",
      "Saving DataSet: perdigao_era5_2020 to ../data/preprocessed/perdigao_era5_2020.nc\n",
      "Saving DataSet: perdigao_low_res_1H_2020 to ../data/preprocessed/perdigao_low_res_1H_2020.nc\n",
      "Saving DataSet: perdigao_high_res_1H_2020 to ../data/preprocessed/perdigao_high_res_1H_2020.nc\n",
      "Loading again DataSet: perdigao_era5_2020 from ../data/preprocessed/perdigao_era5_2020.nc\n",
      "Loading again DataSet: perdigao_low_res_1H_2020 from ../data/preprocessed/perdigao_low_res_1H_2020.nc\n",
      "Loading again DataSet: perdigao_high_res_1H_2020 from ../data/preprocessed/perdigao_high_res_1H_2020.nc\n",
      "DataSets:dict_keys(['perdigao_era5_2020', 'perdigao_low_res_1H_2020', 'perdigao_high_res_1H_2020']) are all IO_safe.\n",
      "Standardrizing data set: perdigao_low_res_1H_2020\n",
      "\tStandardrizing data:u\n",
      "shape check: PASSED. This program expect data with 3 dimensions:[time, x, y] for 2D training.\n",
      "\tmean_shape:(), stddev_shape:(), std_shape:(8520, 96, 96)\n",
      "\tStandardrizing data:v\n",
      "shape check: PASSED. This program expect data with 3 dimensions:[time, x, y] for 2D training.\n",
      "\tmean_shape:(), stddev_shape:(), std_shape:(8520, 96, 96)\n",
      "\tStacking standardrized data: ['u', 'v']\n",
      "\t\tStacking data u, stdrzd with mean:2.1677807993114584e-08, std:1.0000008344650269\n",
      "\t\tStacking data v, stdrzd with mean:-7.172083655859751e-07, std:1.000001072883606\n",
      "\tStacked 2 data in data_dict: ['u', 'v']\n",
      "\t\tStacking data u, mean with mean:0.7051483988761902, std:0.0\n",
      "\t\tStacking data v, mean with mean:-1.014777421951294, std:0.0\n",
      "\tStacked 2 data in data_dict: ['u', 'v']\n",
      "\t\tStacking data u, std with mean:3.1869051456451416, std:0.0\n",
      "\t\tStacking data v, std with mean:2.882791519165039, std:0.0\n",
      "\tStacked 2 data in data_dict: ['u', 'v']\n",
      "\tStacking raw data: ['u', 'v']\n",
      "\t\tStacking data u, raw with mean:0.7051483988761902, std:3.1869051456451416\n",
      "\t\tStacking data v, raw with mean:-1.014777421951294, std:2.882791519165039\n",
      "\tStacked 2 data in data_dict: ['u', 'v']\n",
      "\tstacked: mean_shape:(2,), stddev_shape:(2,), std_shape:(8520, 96, 96, 2), raw_shape:(8520, 96, 96, 2)\n",
      "\tstacked std stat(over all other dimensions (0, 1, 2)): mean:[ 2.1677808e-08 -7.1720837e-07], stddev:[1.0000008 1.0000011]\n",
      "Standardrizing data set: perdigao_high_res_1H_2020\n",
      "\tStandardrizing data:u\n",
      "shape check: PASSED. This program expect data with 3 dimensions:[time, x, y] for 2D training.\n",
      "\tmean_shape:(), stddev_shape:(), std_shape:(8520, 192, 192)\n",
      "\tStandardrizing data:v\n",
      "shape check: PASSED. This program expect data with 3 dimensions:[time, x, y] for 2D training.\n",
      "\tmean_shape:(), stddev_shape:(), std_shape:(8520, 192, 192)\n",
      "\tStacking standardrized data: ['u', 'v']\n",
      "\t\tStacking data u, stdrzd with mean:-1.8022865333477966e-07, std:0.9999976754188538\n",
      "\t\tStacking data v, stdrzd with mean:-9.072684861166636e-07, std:1.000000238418579\n",
      "\tStacked 2 data in data_dict: ['u', 'v']\n",
      "\t\tStacking data u, mean with mean:0.7011979818344116, std:0.0\n",
      "\t\tStacking data v, mean with mean:-1.0068085193634033, std:0.0\n",
      "\tStacked 2 data in data_dict: ['u', 'v']\n",
      "\t\tStacking data u, std with mean:3.149406909942627, std:0.0\n",
      "\t\tStacking data v, std with mean:2.8781955242156982, std:0.0\n",
      "\tStacked 2 data in data_dict: ['u', 'v']\n",
      "\tStacking raw data: ['u', 'v']\n",
      "\t\tStacking data u, raw with mean:0.7011979818344116, std:3.149406909942627\n",
      "\t\tStacking data v, raw with mean:-1.0068085193634033, std:2.8781955242156982\n",
      "\tStacked 2 data in data_dict: ['u', 'v']\n",
      "\tstacked: mean_shape:(2,), stddev_shape:(2,), std_shape:(8520, 192, 192, 2), raw_shape:(8520, 192, 192, 2)\n",
      "\tstacked std stat(over all other dimensions (0, 1, 2)): mean:[-1.8022865e-07 -9.0726849e-07], stddev:[0.9999977 1.0000002]\n",
      "Checking standardrized data set: perdigao_low_res_1H_2020\n",
      "\tReconstruct stacked unstandardrized data!\n",
      "\t data_set_recovered = std_data[(8520, 96, 96, 2)] * stddev[(2,)] + mean[(2,)]\n",
      "\t\tStacking data u, raw with mean:0.7051483988761902, std:3.1869051456451416\n",
      "\t\tStacking data v, raw with mean:-1.014777421951294, std:2.882791519165039\n",
      "\tStacked 2 data in data_dict: ['u', 'v']\n",
      "\tNumerical error of standardrization is: 1.9073486328125e-06\n",
      "Checking standardrized data set: perdigao_high_res_1H_2020\n",
      "\tReconstruct stacked unstandardrized data!\n",
      "\t data_set_recovered = std_data[(8520, 192, 192, 2)] * stddev[(2,)] + mean[(2,)]\n",
      "\t\tStacking data u, raw with mean:0.7011979818344116, std:3.149406909942627\n",
      "\t\tStacking data v, raw with mean:-1.0068085193634033, std:2.8781955242156982\n",
      "\tStacked 2 data in data_dict: ['u', 'v']\n",
      "\tNumerical error of standardrization is: 1.9073486328125e-06\n",
      "Standardrization check for standardrized data set: perdigao_high_res_1H_2020, PASSED\n",
      "Saving data np_perdigao_low_res_1H_2020_std to h5 file ../data/preprocessed/np_gan_standard.h5\n",
      "Saving data np_perdigao_low_res_1H_2020_mean to h5 file ../data/preprocessed/np_gan_standard.h5\n",
      "Saving data np_perdigao_low_res_1H_2020_stddev to h5 file ../data/preprocessed/np_gan_standard.h5\n",
      "Saving data np_perdigao_low_res_1H_2020_raw to h5 file ../data/preprocessed/np_gan_standard.h5\n",
      "Saving data np_perdigao_high_res_1H_2020_std to h5 file ../data/preprocessed/np_gan_standard.h5\n",
      "Saving data np_perdigao_high_res_1H_2020_mean to h5 file ../data/preprocessed/np_gan_standard.h5\n",
      "Saving data np_perdigao_high_res_1H_2020_stddev to h5 file ../data/preprocessed/np_gan_standard.h5\n",
      "Saving data np_perdigao_high_res_1H_2020_raw to h5 file ../data/preprocessed/np_gan_standard.h5\n",
      "IO check of data set:dict_keys(['perdigao_low_res_1H_2020', 'perdigao_high_res_1H_2020']) to h5 file ../data/preprocessed/np_gan_standard.h5 PASSED\n",
      "Successfully preprocessed all the data!\n"
     ]
    }
   ],
   "source": [
    "#start data_preprocess\n",
    "data_preprocess(list_of_data_set_path, parameters)"
   ]
  },
  {
   "cell_type": "markdown",
   "id": "9f02a5bd-9d06-4570-a1bc-c4241ff7311b",
   "metadata": {},
   "source": [
    "### Example for loading data"
   ]
  },
  {
   "cell_type": "code",
   "execution_count": 4,
   "id": "1b5f1ed1-5dfc-426a-a186-3bb6d1718d97",
   "metadata": {
    "jupyter": {
     "outputs_hidden": true
    },
    "tags": []
   },
   "outputs": [
    {
     "name": "stdout",
     "output_type": "stream",
     "text": [
      "Data in file ../data/preprocessed/np_gan_standard.h5 are: \n",
      " ['np_perdigao_high_res_1H_2020_mean', 'np_perdigao_high_res_1H_2020_raw', 'np_perdigao_high_res_1H_2020_std', 'np_perdigao_high_res_1H_2020_stddev', 'np_perdigao_low_res_1H_2020_mean', 'np_perdigao_low_res_1H_2020_raw', 'np_perdigao_low_res_1H_2020_std', 'np_perdigao_low_res_1H_2020_stddev']\n",
      "Examining data np_perdigao_high_res_1H_2020_mean\n",
      "Examining data np_perdigao_high_res_1H_2020_raw\n",
      "Examining data np_perdigao_high_res_1H_2020_std\n",
      "Examining data np_perdigao_high_res_1H_2020_stddev\n",
      "Examining data np_perdigao_low_res_1H_2020_mean\n",
      "Examining data np_perdigao_low_res_1H_2020_raw\n",
      "Examining data np_perdigao_low_res_1H_2020_std\n",
      "Loading data np_perdigao_low_res_1H_2020_std from file ../data/preprocessed/np_gan_standard.h5\n",
      "Data in file ../data/preprocessed/np_gan_standard.h5 are: \n",
      " ['np_perdigao_high_res_1H_2020_mean', 'np_perdigao_high_res_1H_2020_raw', 'np_perdigao_high_res_1H_2020_std', 'np_perdigao_high_res_1H_2020_stddev', 'np_perdigao_low_res_1H_2020_mean', 'np_perdigao_low_res_1H_2020_raw', 'np_perdigao_low_res_1H_2020_std', 'np_perdigao_low_res_1H_2020_stddev']\n",
      "Examining data np_perdigao_high_res_1H_2020_mean\n",
      "Examining data np_perdigao_high_res_1H_2020_raw\n",
      "Examining data np_perdigao_high_res_1H_2020_std\n",
      "Loading data np_perdigao_high_res_1H_2020_std from file ../data/preprocessed/np_gan_standard.h5\n",
      "Got data_x with shape:(8520, 96, 96, 2), data_y with shape:(8520, 192, 192, 2)\n"
     ]
    }
   ],
   "source": [
    "output_folder = \"../data/preprocessed/\"\n",
    "file_format = \"np_gan_standard\"\n",
    "xy_keyword_dict = {\"x\":\"low\", \"y\":\"high\"}\n",
    "data_xy = get_data_xy_from_h5(output_folder, file_format, xy_keyword_dict, exclude_list = [\"stddev\", \"mean\",\"raw\"])"
   ]
  },
  {
   "cell_type": "markdown",
   "id": "50b14520-0c82-4b03-a2a6-c88fe8a86e5f",
   "metadata": {},
   "source": [
    "## Autoencoder"
   ]
  },
  {
   "cell_type": "markdown",
   "id": "fb36f670-4e9b-49b8-b46a-afc4f3a6d1de",
   "metadata": {},
   "source": [
    "### Key parameters\n",
    "The parameters for HIER-AE are explained below:\n",
    "1. For training, ``` parameters[\"train\"] ```:\n",
    "    - ``` \"batch_size\", \"shuffle\"```: the generic parameters for improvements\n",
    "    - ``` \"n_sub_net\" ```: number of sub nets in the hierarchi\n",
    "    - ``` \"latent_dim_en\" ```: latent dimension size of the encoder \n",
    "    - ``` \"latent_dim_de_origin\" ```: latent dimension size of the decoder in the lowest level, later ones will be multiplied by the number of level.\n",
    "    - ``` \"log_path_file_format\" ```: file_format for string formatting for log output\n",
    "    - ``` \"sub_net_epochs\" ```: number of epochs for each level of sub net\n",
    "2. For data IO and manipulation, ``` parameters[\"data\"] ```:\n",
    "    - ``` \"output_folder\" ```: the output folder of the data preprocess, used as input for loading data\n",
    "    - ``` \"file_format\" ```: the file name format used for standardrized data file h5\n",
    "    - ``` \"xy_keyword_dict\" ```: the data name key used for detecting and catogorizing x and y from h5 standardrized datasets. Here we only load high res data and use y the same as x\n",
    "    - ``` \"xy_exclude_list\" ```: list of dataset type to be skipped if appeared in the data set name, like stddev, mean and std if we only need raw data."
   ]
  },
  {
   "cell_type": "code",
   "execution_count": 12,
   "id": "021735a6-557d-46aa-a742-377f9287dcb6",
   "metadata": {},
   "outputs": [],
   "source": [
    "parameters_AE = dict()\n",
    "\n",
    "parameters_AE[\"train\"] = {\"batch_size\": 128,\n",
    "                       \"shuffle\": True,\n",
    "                       \"n_sub_net\":4,\n",
    "                       \"latent_dim_en\":18,\n",
    "                       \"latent_dim_de_origin\":18,\n",
    "                       \"log_path_file_format\":\"../data/log/%s\",\n",
    "                       \"sub_net_epochs\":[5,4,3,2]}\n",
    "parameters_AE[\"data\"] = {'output_folder': \"../data/preprocessed/\",\n",
    "                      'file_format': \"np_gan_standard\",\n",
    "                      'xy_keyword_dict': {\"x\":\"high\", \"y\":\"high\"}, #only load high res data\n",
    "                      'xy_exclude_list': [\"stddev\", \"mean\",\"std\"]} #here we only need to load \"raw\" data"
   ]
  },
  {
   "cell_type": "code",
   "execution_count": null,
   "id": "57c12a01",
   "metadata": {},
   "outputs": [],
   "source": [
    "### Step by step running example\n",
    "#initialize model with parameters_AE\n",
    "model_AE = AWWSM4_HIER_AE(parameters_AE)\n",
    "#load data\n",
    "model_AE.load_data()\n",
    "#split data\n",
    "model_AE.split_data()\n",
    "#perform the training for each sub net one by one\n",
    "model_AE.generate_AE_one_by_one()"
   ]
  },
  {
   "cell_type": "markdown",
   "id": "02fad0a1-d45e-4ed6-a79e-90d11c9e55d2",
   "metadata": {},
   "source": [
    "## GAN"
   ]
  },
  {
   "cell_type": "markdown",
   "id": "304f9960-a475-4c09-b9e2-323f4fad76d9",
   "metadata": {},
   "source": [
    "### Key parameters\n",
    "The parameters for GAN are explained below:\n",
    "1. For training, ``` parameters[\"train\"] ```:\n",
    "    - ``` \"learning_rate_g\" ```: the learning rate for the generator\n",
    "    - ``` \"learning_rate_d\" ```: the learning rate for the discriminator\n",
    "    - ``` \"beta_1\", \"beta_2\", \"epsilon\", \"batch_size\"```: the generic parameters for improvements\n",
    "    - ``` \"n_epochs_pretrain\" ```: number of epochs for pretraining\n",
    "    - ``` \"n_epochs_GAN\" ```: number of epochs for full GAN\n",
    "2. For data IO and manipulation, ``` parameters[\"data\"] ```:\n",
    "    - ``` \"output_folder\" ```: the output folder of the data preprocess, used as input for loading data\n",
    "    - ``` \"file_format\" ```: the file name format used for standardrized data file h5\n",
    "    - ``` \"xy_keyword_dict\" ```: the data name key used for detecting and catogorizing x and y from h5 standardrized datasets \n",
    "    - ``` \"xy_exclude_list\" ```: list of dataset type to be skipped if appeared in the data set name, like stddev, mean, raw if we only need standardized data."
   ]
  },
  {
   "cell_type": "code",
   "execution_count": 10,
   "id": "7c9fdddc-2981-4b55-991b-37b72e2cb1a4",
   "metadata": {},
   "outputs": [],
   "source": [
    "parameters_GAN = dict()\n",
    "\n",
    "parameters_GAN[\"train\"] = {\"learning_rate_g\": 1e-4, \n",
    "                       \"learning_rate_d\": 1e-4,\n",
    "                       \"beta_1\": 0.9,\n",
    "                       \"beta_2\": 0.999,\n",
    "                       \"epsilon\": 1e-08,\n",
    "                       \"batch_size\": 128,\n",
    "                       \"alpha_advers\": 1e-3,\n",
    "                       \"n_epochs_pretrain\":1, \n",
    "                       \"n_epochs_GAN\":1}\n",
    "parameters_GAN[\"data\"] = {'output_folder': \"../data/preprocessed/\",\n",
    "                      'file_format': \"np_gan_standard\",\n",
    "                      'xy_keyword_dict': {\"x\":\"low\", \"y\":\"high\"},\n",
    "                      'xy_exclude_list': [\"stddev\", \"mean\",\"raw\"]} #only keep the \"std\"(standardrized) data"
   ]
  },
  {
   "cell_type": "markdown",
   "id": "50afcf80-b144-4a2d-b829-701f3579200a",
   "metadata": {},
   "source": [
    "### Step by step running example"
   ]
  },
  {
   "cell_type": "code",
   "execution_count": null,
   "id": "8c4673fa",
   "metadata": {},
   "outputs": [],
   "source": [
    "#create a GAN model class with doing_pretrain = True \n",
    "model = AWWSM4_SR_GAN(parameters=parameters_GAN, is_GAN=True, doing_pretrain=True) \n",
    "# load and split data based on the parameters[\"data\"]\n",
    "model.load_data()\n",
    "model.split_data()\n",
    "# pretrain and save the model\n",
    "model.pretrain() #use default epoch value = 20\n",
    "model.save_gen_model(\"./temp_v0_gen.h5\")\n",
    "# OPTIONAL: create another model which loaded the pretrained weights and can continue doing pretrain\n",
    "model2 = AWWSM4_SR_GAN(parameters=parameters_GAN, is_GAN=True, doing_pretrain=True)\n",
    "model2.load_gen_model(\"./temp_v0_gen.h5\")\n",
    "model2.load_data()\n",
    "model2.split_data()\n",
    "# continue to work on GAN\n",
    "model.reset_working_mode(doing_pretrain=False)\n",
    "model.train_GAN(epochs=10)"
   ]
  },
  {
   "cell_type": "code",
   "execution_count": null,
   "id": "d7d2d0c5",
   "metadata": {},
   "outputs": [],
   "source": [
    "model.reset_working_mode(doing_pretrain=False)\n",
    "model.train_GAN(epochs=10)"
   ]
  },
  {
   "cell_type": "code",
   "execution_count": null,
   "id": "94f02abf-1cca-4114-add3-aedc16cbd826",
   "metadata": {},
   "outputs": [],
   "source": []
  }
 ],
 "metadata": {
  "kernelspec": {
   "display_name": "tensorflow-2.9.0",
   "language": "python",
   "name": "tensorflow-2.9.0"
  },
  "language_info": {
   "codemirror_mode": {
    "name": "ipython",
    "version": 3
   },
   "file_extension": ".py",
   "mimetype": "text/x-python",
   "name": "python",
   "nbconvert_exporter": "python",
   "pygments_lexer": "ipython3",
   "version": "3.9.12"
  },
  "toc-autonumbering": true
 },
 "nbformat": 4,
 "nbformat_minor": 5
}
